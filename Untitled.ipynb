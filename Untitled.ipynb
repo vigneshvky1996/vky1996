{
 "cells": [
  {
   "cell_type": "code",
   "execution_count": 1,
   "id": "c1c9c8bf",
   "metadata": {},
   "outputs": [
    {
     "name": "stdout",
     "output_type": "stream",
     "text": [
      "vignesh\n"
     ]
    }
   ],
   "source": [
    "print('vignesh')"
   ]
  },
  {
   "cell_type": "code",
   "execution_count": 2,
   "id": "44dd93ee",
   "metadata": {},
   "outputs": [
    {
     "ename": "SyntaxError",
     "evalue": "invalid syntax (Temp/ipykernel_10336/3334066324.py, line 1)",
     "output_type": "error",
     "traceback": [
      "\u001b[1;36m  File \u001b[1;32m\"C:\\Users\\User\\AppData\\Local\\Temp/ipykernel_10336/3334066324.py\"\u001b[1;36m, line \u001b[1;32m1\u001b[0m\n\u001b[1;33m    9.99+18%\u001b[0m\n\u001b[1;37m            ^\u001b[0m\n\u001b[1;31mSyntaxError\u001b[0m\u001b[1;31m:\u001b[0m invalid syntax\n"
     ]
    }
   ],
   "source": [
    "9.99+18%\n"
   ]
  },
  {
   "cell_type": "code",
   "execution_count": 3,
   "id": "44ac6584",
   "metadata": {},
   "outputs": [
    {
     "data": {
      "text/plain": [
       "18.990000000000002"
      ]
     },
     "execution_count": 3,
     "metadata": {},
     "output_type": "execute_result"
    }
   ],
   "source": [
    "9.99+9"
   ]
  },
  {
   "cell_type": "code",
   "execution_count": 4,
   "id": "fb7dd06b",
   "metadata": {},
   "outputs": [
    {
     "data": {
      "text/plain": [
       "19.0"
      ]
     },
     "execution_count": 4,
     "metadata": {},
     "output_type": "execute_result"
    }
   ],
   "source": [
    "round(18.99999,2)"
   ]
  },
  {
   "cell_type": "code",
   "execution_count": null,
   "id": "004362dc",
   "metadata": {},
   "outputs": [],
   "source": []
  }
 ],
 "metadata": {
  "kernelspec": {
   "display_name": "Python 3 (ipykernel)",
   "language": "python",
   "name": "python3"
  },
  "language_info": {
   "codemirror_mode": {
    "name": "ipython",
    "version": 3
   },
   "file_extension": ".py",
   "mimetype": "text/x-python",
   "name": "python",
   "nbconvert_exporter": "python",
   "pygments_lexer": "ipython3",
   "version": "3.9.7"
  }
 },
 "nbformat": 4,
 "nbformat_minor": 5
}
